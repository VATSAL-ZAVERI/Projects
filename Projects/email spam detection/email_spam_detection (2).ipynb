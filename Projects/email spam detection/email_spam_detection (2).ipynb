{
 "cells": [
  {
   "cell_type": "code",
   "execution_count": 1,
   "id": "7688de0f",
   "metadata": {},
   "outputs": [],
   "source": [
    "#importing modules\n",
    "from sklearn import preprocessing\n",
    "import numpy as np"
   ]
  },
  {
   "cell_type": "code",
   "execution_count": 2,
   "id": "a32544d2",
   "metadata": {},
   "outputs": [],
   "source": [
    "#creating activation functions\n",
    "def derivative(x):\n",
    "    return x * (1.0 - x)\n",
    "def sigmoid(x):\n",
    "    return 1.0 / (1.0 + np.exp(-x))"
   ]
  },
  {
   "cell_type": "code",
   "execution_count": 3,
   "id": "a06400cd",
   "metadata": {},
   "outputs": [],
   "source": [
    "X = []\n",
    "Y = []\n",
    "# read the training data\n",
    "with open(r\"C:\\Users\\VATSAL ZAVERI\\OneDrive\\Desktop\\projects\\SPAM_detection_using_neural_networks\\spambase.csv\") as f:\n",
    "    for line in f:\n",
    "        curr = line.split(\",\")\n",
    "        new_curr = [1]\n",
    "        for item in curr[:len(curr) - 1]:\n",
    "            new_curr.append(float(item))\n",
    "        X.append(new_curr)\n",
    "        Y.append([float(curr[-1])])"
   ]
  },
  {
   "cell_type": "code",
   "execution_count": 4,
   "id": "54488f35",
   "metadata": {},
   "outputs": [],
   "source": [
    "X = np.array(X)\n",
    "X = preprocessing.scale(X) # feature scaling"
   ]
  },
  {
   "cell_type": "code",
   "execution_count": 5,
   "id": "0ba8ba48",
   "metadata": {},
   "outputs": [],
   "source": [
    "Y = np.array(Y)"
   ]
  },
  {
   "cell_type": "code",
   "execution_count": 6,
   "id": "90a1680c",
   "metadata": {},
   "outputs": [],
   "source": [
    "# the first 2500 out of 3000 emails will serve as training data\n",
    "X_train = X[0:3910]\n",
    "Y_train = Y[0:3910]\n",
    "# the rest 500 emails will serve as testing data\n",
    "X_test = X[3910:]\n",
    "y_test = Y[3910:]\n",
    "X = X_train\n",
    "y = Y_train"
   ]
  },
  {
   "cell_type": "markdown",
   "id": "64f400d9",
   "metadata": {},
   "source": [
    "#### we have 3 layers: input layer, hidden layer and output layer"
   ]
  },
  {
   "cell_type": "markdown",
   "id": "f3927dcc",
   "metadata": {},
   "source": [
    "#### input layer has 57 nodes (1 for each feature)"
   ]
  },
  {
   "cell_type": "markdown",
   "id": "94ef380d",
   "metadata": {},
   "source": [
    "#### hidden layer has 4 nodes"
   ]
  },
  {
   "cell_type": "markdown",
   "id": "661ceebd",
   "metadata": {},
   "source": [
    "#### output layer has 1 node"
   ]
  },
  {
   "cell_type": "code",
   "execution_count": 7,
   "id": "60ea07ea",
   "metadata": {},
   "outputs": [],
   "source": [
    "dim1 = len(X_train[0])\n",
    "dim2 = 4\n",
    "# randomly initialize the weight vectors\n",
    "np.random.seed(1)\n",
    "weight0 = 2 * np.random.random((dim1, dim2)) - 1\n",
    "weight1 = 2 * np.random.random((dim2, 1)) - 1"
   ]
  },
  {
   "cell_type": "code",
   "execution_count": 8,
   "id": "58edf901",
   "metadata": {},
   "outputs": [
    {
     "name": "stderr",
     "output_type": "stream",
     "text": [
      "C:\\Users\\VATSAL~1\\AppData\\Local\\Temp/ipykernel_22840/3608599586.py:5: RuntimeWarning: overflow encountered in exp\n",
      "  return 1.0 / (1.0 + np.exp(-x))\n"
     ]
    }
   ],
   "source": [
    "# you can change the number of iterations\n",
    "for j in range(25000):\n",
    "    # first evaluate the output for each training email\n",
    "    layer_0 = X_train\n",
    "    layer_1 = sigmoid(np.dot(layer_0,weight0))\n",
    "    layer_2 = sigmoid(np.dot(layer_1,weight1))\n",
    "    # calculate the error\n",
    "    layer_2_error = Y_train - layer_2\n",
    "    # perform back propagation\n",
    "    layer_2_delta = layer_2_error * derivative(layer_2)\n",
    "    layer_1_error = layer_2_delta.dot(weight1.T)\n",
    "    layer_1_delta = layer_1_error * derivative(layer_1)\n",
    "    # update the weight vectors\n",
    "    weight1 += layer_1.T.dot(layer_2_delta)\n",
    "    weight0 += layer_0.T.dot(layer_1_delta)"
   ]
  },
  {
   "cell_type": "markdown",
   "id": "ad33a3b2",
   "metadata": {},
   "source": [
    "#### the warning is occured because exp() function of numpy cannot process values greater than 1.7976931348623157e+308. but we can ignore it as numpy takes care of the approximation for us. "
   ]
  },
  {
   "cell_type": "code",
   "execution_count": 9,
   "id": "e5d523e7",
   "metadata": {},
   "outputs": [
    {
     "name": "stderr",
     "output_type": "stream",
     "text": [
      "C:\\Users\\VATSAL~1\\AppData\\Local\\Temp/ipykernel_22840/3608599586.py:5: RuntimeWarning: overflow encountered in exp\n",
      "  return 1.0 / (1.0 + np.exp(-x))\n"
     ]
    }
   ],
   "source": [
    "# evaluation on the testing data\n",
    "layer_0 = X_test\n",
    "layer_1 = sigmoid(np.dot(layer_0,weight0))\n",
    "layer_2 = sigmoid(np.dot(layer_1,weight1))\n",
    "correct = 0"
   ]
  },
  {
   "cell_type": "code",
   "execution_count": 10,
   "id": "faf4d57b",
   "metadata": {},
   "outputs": [],
   "source": [
    "# if the output is > 0.5, then label as spam else no spam\n",
    "for i in range(len(layer_2)):\n",
    "    if(layer_2[i][0] > 0.5):\n",
    "        layer_2[i][0] = 1\n",
    "    else:\n",
    "        layer_2[i][0] = 0\n",
    "    if(layer_2[i][0] == y_test[i][0]):\n",
    "        correct += 1"
   ]
  },
  {
   "cell_type": "code",
   "execution_count": 11,
   "id": "873fd4b8",
   "metadata": {},
   "outputs": [
    {
     "name": "stdout",
     "output_type": "stream",
     "text": [
      "total =  691\n",
      "correct =  610\n",
      "accuracy =  88.27785817655571\n"
     ]
    }
   ],
   "source": [
    "# printing the number of spam mails, number of spams succesfully detected & the accuracy of the model.\n",
    "print(\"total = \", len(layer_2))\n",
    "print(\"correct = \", correct)\n",
    "print(\"accuracy = \", correct*100/len(layer_2))"
   ]
  }
 ],
 "metadata": {
  "kernelspec": {
   "display_name": "Python 3 (ipykernel)",
   "language": "python",
   "name": "python3"
  },
  "language_info": {
   "codemirror_mode": {
    "name": "ipython",
    "version": 3
   },
   "file_extension": ".py",
   "mimetype": "text/x-python",
   "name": "python",
   "nbconvert_exporter": "python",
   "pygments_lexer": "ipython3",
   "version": "3.9.7"
  }
 },
 "nbformat": 4,
 "nbformat_minor": 5
}
